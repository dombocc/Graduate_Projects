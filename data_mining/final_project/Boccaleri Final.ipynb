{
 "cells": [
  {
   "cell_type": "code",
   "execution_count": 36,
   "metadata": {},
   "outputs": [],
   "source": [
    "import numpy as np\n",
    "import pandas as pd\n",
    "from sklearn.tree import DecisionTreeClassifier\n",
    "from sklearn.model_selection import train_test_split\n",
    "from sklearn import metrics\n",
    "from sklearn.linear_model import LogisticRegression\n",
    "import os\n",
    "\n",
    "#plot package\n",
    "import matplotlib.pyplot as plt\n",
    "import seaborn as sns\n",
    "sns.set(style=\"white\")\n",
    "sns.set(style=\"darkgrid\", color_codes=True)"
   ]
  },
  {
   "cell_type": "code",
   "execution_count": 3,
   "metadata": {},
   "outputs": [
    {
     "data": {
      "text/plain": [
       "'C:\\\\Users\\\\Dominic\\\\OneDrive\\\\DataMining\\\\Final Project'"
      ]
     },
     "execution_count": 3,
     "metadata": {},
     "output_type": "execute_result"
    }
   ],
   "source": [
    "os.getcwd()"
   ]
  },
  {
   "cell_type": "code",
   "execution_count": 4,
   "metadata": {},
   "outputs": [],
   "source": [
    "data = pd.read_csv(\"CrashData.csv\")"
   ]
  },
  {
   "cell_type": "code",
   "execution_count": 5,
   "metadata": {},
   "outputs": [
    {
     "data": {
      "text/html": [
       "<div>\n",
       "<style scoped>\n",
       "    .dataframe tbody tr th:only-of-type {\n",
       "        vertical-align: middle;\n",
       "    }\n",
       "\n",
       "    .dataframe tbody tr th {\n",
       "        vertical-align: top;\n",
       "    }\n",
       "\n",
       "    .dataframe thead th {\n",
       "        text-align: right;\n",
       "    }\n",
       "</style>\n",
       "<table border=\"1\" class=\"dataframe\">\n",
       "  <thead>\n",
       "    <tr style=\"text-align: right;\">\n",
       "      <th></th>\n",
       "      <th>Case Number</th>\n",
       "      <th>County</th>\n",
       "      <th>Crash Date</th>\n",
       "      <th>Crash Day Of Week</th>\n",
       "      <th>Crash Month</th>\n",
       "      <th>Crash Year</th>\n",
       "      <th>Crash Hour</th>\n",
       "      <th>Crash Type</th>\n",
       "      <th>Intersection</th>\n",
       "      <th>Latitude</th>\n",
       "      <th>Pedestrians Killed</th>\n",
       "      <th>Environmental Condition</th>\n",
       "      <th>Severity</th>\n",
       "      <th>Hazmat Involved</th>\n",
       "      <th>Light Condition</th>\n",
       "      <th>Surface Condition</th>\n",
       "      <th>Distracted Driving Involved</th>\n",
       "      <th>Unsafe Speed Involved</th>\n",
       "      <th>Bicyclist Involved</th>\n",
       "      <th>Rural Or Urban</th>\n",
       "    </tr>\n",
       "  </thead>\n",
       "  <tbody>\n",
       "    <tr>\n",
       "      <th>0</th>\n",
       "      <td>B130-2019-04124A</td>\n",
       "      <td>Essex</td>\n",
       "      <td>12/12/2019</td>\n",
       "      <td>Thursday</td>\n",
       "      <td>December</td>\n",
       "      <td>2019</td>\n",
       "      <td>2.0</td>\n",
       "      <td>Fixed Object</td>\n",
       "      <td>Not Within Intersection Boundaries</td>\n",
       "      <td>40.710574</td>\n",
       "      <td>0</td>\n",
       "      <td>Clear</td>\n",
       "      <td>Suspected Minor Injury</td>\n",
       "      <td>No</td>\n",
       "      <td>Dark - Street Lights On (Spot)</td>\n",
       "      <td>Dry</td>\n",
       "      <td>Yes</td>\n",
       "      <td>No</td>\n",
       "      <td>No</td>\n",
       "      <td>Urban</td>\n",
       "    </tr>\n",
       "    <tr>\n",
       "      <th>1</th>\n",
       "      <td>B060-2019-03838A</td>\n",
       "      <td>Essex</td>\n",
       "      <td>12/11/2019</td>\n",
       "      <td>Wednesday</td>\n",
       "      <td>December</td>\n",
       "      <td>2019</td>\n",
       "      <td>19.0</td>\n",
       "      <td>Same Direction - Side Swipe</td>\n",
       "      <td>Not Within Intersection Boundaries</td>\n",
       "      <td>40.893689</td>\n",
       "      <td>0</td>\n",
       "      <td>Clear</td>\n",
       "      <td>No Apparent Injury</td>\n",
       "      <td>No</td>\n",
       "      <td>Dark - Street Lights Not Present</td>\n",
       "      <td>Dry</td>\n",
       "      <td>No</td>\n",
       "      <td>No</td>\n",
       "      <td>No</td>\n",
       "      <td>Urban</td>\n",
       "    </tr>\n",
       "    <tr>\n",
       "      <th>2</th>\n",
       "      <td>B130-2019-04122A</td>\n",
       "      <td>Somerset</td>\n",
       "      <td>12/11/2019</td>\n",
       "      <td>Wednesday</td>\n",
       "      <td>December</td>\n",
       "      <td>2019</td>\n",
       "      <td>18.0</td>\n",
       "      <td>Fixed Object</td>\n",
       "      <td>Not Within Intersection Boundaries</td>\n",
       "      <td>40.498190</td>\n",
       "      <td>0</td>\n",
       "      <td>Clear</td>\n",
       "      <td>No Apparent Injury</td>\n",
       "      <td>No</td>\n",
       "      <td>Dark - Street Lights On (Continuous)</td>\n",
       "      <td>Dry</td>\n",
       "      <td>Yes</td>\n",
       "      <td>No</td>\n",
       "      <td>No</td>\n",
       "      <td>Urban</td>\n",
       "    </tr>\n",
       "    <tr>\n",
       "      <th>3</th>\n",
       "      <td>A040-2019-00866A</td>\n",
       "      <td>Cumberland</td>\n",
       "      <td>12/11/2019</td>\n",
       "      <td>Wednesday</td>\n",
       "      <td>December</td>\n",
       "      <td>2019</td>\n",
       "      <td>18.0</td>\n",
       "      <td>Fixed Object</td>\n",
       "      <td>Not Within Intersection Boundaries</td>\n",
       "      <td>39.471608</td>\n",
       "      <td>0</td>\n",
       "      <td>Clear</td>\n",
       "      <td>No Apparent Injury</td>\n",
       "      <td>No</td>\n",
       "      <td>Dark - Street Lights Not Present</td>\n",
       "      <td>Dry</td>\n",
       "      <td>No</td>\n",
       "      <td>No</td>\n",
       "      <td>No</td>\n",
       "      <td>Urban</td>\n",
       "    </tr>\n",
       "    <tr>\n",
       "      <th>4</th>\n",
       "      <td>E040-2019-05221A</td>\n",
       "      <td>Bergen</td>\n",
       "      <td>12/11/2019</td>\n",
       "      <td>Wednesday</td>\n",
       "      <td>December</td>\n",
       "      <td>2019</td>\n",
       "      <td>17.0</td>\n",
       "      <td>Same Direction - Rear End</td>\n",
       "      <td>Not Within Intersection Boundaries</td>\n",
       "      <td>41.020455</td>\n",
       "      <td>0</td>\n",
       "      <td>Clear</td>\n",
       "      <td>Possible Injury</td>\n",
       "      <td>No</td>\n",
       "      <td>Dark - Street Lights Not Present</td>\n",
       "      <td>Dry</td>\n",
       "      <td>No</td>\n",
       "      <td>No</td>\n",
       "      <td>No</td>\n",
       "      <td>Urban</td>\n",
       "    </tr>\n",
       "  </tbody>\n",
       "</table>\n",
       "</div>"
      ],
      "text/plain": [
       "        Case Number      County  Crash Date Crash Day Of Week Crash Month  \\\n",
       "0  B130-2019-04124A       Essex  12/12/2019          Thursday    December   \n",
       "1  B060-2019-03838A       Essex  12/11/2019         Wednesday    December   \n",
       "2  B130-2019-04122A    Somerset  12/11/2019         Wednesday    December   \n",
       "3  A040-2019-00866A  Cumberland  12/11/2019         Wednesday    December   \n",
       "4  E040-2019-05221A      Bergen  12/11/2019         Wednesday    December   \n",
       "\n",
       "   Crash Year  Crash Hour                   Crash Type  \\\n",
       "0        2019         2.0                 Fixed Object   \n",
       "1        2019        19.0  Same Direction - Side Swipe   \n",
       "2        2019        18.0                 Fixed Object   \n",
       "3        2019        18.0                 Fixed Object   \n",
       "4        2019        17.0    Same Direction - Rear End   \n",
       "\n",
       "                         Intersection   Latitude  Pedestrians Killed  \\\n",
       "0  Not Within Intersection Boundaries  40.710574                   0   \n",
       "1  Not Within Intersection Boundaries  40.893689                   0   \n",
       "2  Not Within Intersection Boundaries  40.498190                   0   \n",
       "3  Not Within Intersection Boundaries  39.471608                   0   \n",
       "4  Not Within Intersection Boundaries  41.020455                   0   \n",
       "\n",
       "  Environmental Condition                Severity Hazmat Involved  \\\n",
       "0                   Clear  Suspected Minor Injury              No   \n",
       "1                   Clear      No Apparent Injury              No   \n",
       "2                   Clear      No Apparent Injury              No   \n",
       "3                   Clear      No Apparent Injury              No   \n",
       "4                   Clear         Possible Injury              No   \n",
       "\n",
       "                        Light Condition Surface Condition  \\\n",
       "0        Dark - Street Lights On (Spot)               Dry   \n",
       "1      Dark - Street Lights Not Present               Dry   \n",
       "2  Dark - Street Lights On (Continuous)               Dry   \n",
       "3      Dark - Street Lights Not Present               Dry   \n",
       "4      Dark - Street Lights Not Present               Dry   \n",
       "\n",
       "  Distracted Driving Involved Unsafe Speed Involved Bicyclist Involved  \\\n",
       "0                         Yes                    No                 No   \n",
       "1                          No                    No                 No   \n",
       "2                         Yes                    No                 No   \n",
       "3                          No                    No                 No   \n",
       "4                          No                    No                 No   \n",
       "\n",
       "  Rural Or Urban  \n",
       "0          Urban  \n",
       "1          Urban  \n",
       "2          Urban  \n",
       "3          Urban  \n",
       "4          Urban  "
      ]
     },
     "execution_count": 5,
     "metadata": {},
     "output_type": "execute_result"
    }
   ],
   "source": [
    "data.head()"
   ]
  },
  {
   "cell_type": "markdown",
   "metadata": {},
   "source": [
    "# Explore the data"
   ]
  },
  {
   "cell_type": "code",
   "execution_count": 41,
   "metadata": {},
   "outputs": [
    {
     "data": {
      "text/plain": [
       "Middlesex     91373\n",
       "Bergen        91298\n",
       "Essex         87641\n",
       "Monmouth      62793\n",
       "Union         59143\n",
       "Camden        52453\n",
       "Hudson        51484\n",
       "Morris        50896\n",
       "Passaic       48868\n",
       "Burlington    47731\n",
       "Ocean         44849\n",
       "Somerset      42257\n",
       "Mercer        36029\n",
       "Atlantic      29871\n",
       "Gloucester    27315\n",
       "Hunterdon     14945\n",
       "Cumberland    13306\n",
       "Sussex        11719\n",
       "Warren        11250\n",
       "Cape May       8466\n",
       "Salem          6512\n",
       "Name: County, dtype: int64"
      ]
     },
     "execution_count": 41,
     "metadata": {},
     "output_type": "execute_result"
    }
   ],
   "source": [
    "counts = data[\"Severity\"].value_counts()\n",
    "counts"
   ]
  },
  {
   "cell_type": "code",
   "execution_count": 19,
   "metadata": {},
   "outputs": [],
   "source": [
    "#Count of each severity case\n",
    "Count_NoInjury = len(data[data[\"Severity\"]==\"No Apparent Injury\"])\n",
    "Count_PossInjury = len(data[data[\"Severity\"]==\"Possible Injury\"])\n",
    "Count_MinorInjury = len(data[data[\"Severity\"]==\"Suspected Minor Injury\"])\n",
    "Count_SeriousInjury = len(data[data[\"Severity\"]==\"Suspected Serious Injury\"])\n",
    "Count_FatalInjury = len(data[data[\"Severity\"]==\"Fatal Injury\"])\n",
    "Total_Count = Count_NoInjury+Count_PossInjury+Count_MinorInjury+Count_SeriousInjury+Count_FatalInjury"
   ]
  },
  {
   "cell_type": "code",
   "execution_count": 20,
   "metadata": {},
   "outputs": [
    {
     "name": "stdout",
     "output_type": "stream",
     "text": [
      "Percentage of No Injury Cases:  75.67195649512075\n",
      "Percentage of Possible Injury Cases:  18.939585418541245\n",
      "Percentage of Minor Injury Cases:  4.636379056817633\n",
      "Percentage of Serious Injury Cases:  0.4894411249619467\n",
      "Percentage of Fatal Injury Cases:  0.26263790455841896\n"
     ]
    }
   ],
   "source": [
    "print(\"Percentage of No Injury Cases: \", Count_NoInjury/Total_Count*100)\n",
    "print(\"Percentage of Possible Injury Cases: \", Count_PossInjury/Total_Count*100)\n",
    "print(\"Percentage of Minor Injury Cases: \", Count_MinorInjury/Total_Count*100)\n",
    "print(\"Percentage of Serious Injury Cases: \", Count_SeriousInjury/Total_Count*100)\n",
    "print(\"Percentage of Fatal Injury Cases: \", Count_FatalInjury/Total_Count*100)"
   ]
  },
  {
   "cell_type": "code",
   "execution_count": 26,
   "metadata": {
    "scrolled": true
   },
   "outputs": [
    {
     "data": {
      "image/png": "[encoded data removed]",
      "text/plain": [
       "<Figure size 432x288 with 1 Axes>"
      ]
     },
     "metadata": {},
     "output_type": "display_data"
    }
   ],
   "source": [
    "ax = sns.countplot(x=\"Severity\",data=data, order=[\"No Apparent Injury\",\"Possible Injury\",\"SuspectedMinor Injury\",\"Suspected Serious Injury\",\"Fatal Injury\"])\n",
    "plt.show()"
   ]
  },
  {
   "cell_type": "code",
   "execution_count": 40,
   "metadata": {},
   "outputs": [
    {
     "ename": "AttributeError",
     "evalue": "'tuple' object has no attribute 'bar'",
     "output_type": "error",
     "traceback": [
      "\u001b[1;31m---------------------------------------------------------------------------\u001b[0m",
      "\u001b[1;31mAttributeError\u001b[0m                            Traceback (most recent call last)",
      "\u001b[1;32m<ipython-input-40-801da2cb5505>\u001b[0m in \u001b[0;36m<module>\u001b[1;34m\u001b[0m\n\u001b[0;32m      3\u001b[0m \u001b[0mxpos\u001b[0m \u001b[1;33m=\u001b[0m \u001b[0mnp\u001b[0m\u001b[1;33m.\u001b[0m\u001b[0marange\u001b[0m\u001b[1;33m(\u001b[0m\u001b[1;36m5\u001b[0m\u001b[1;33m)\u001b[0m\u001b[1;33m\u001b[0m\u001b[1;33m\u001b[0m\u001b[0m\n\u001b[0;32m      4\u001b[0m \u001b[1;33m\u001b[0m\u001b[0m\n\u001b[1;32m----> 5\u001b[1;33m \u001b[0max\u001b[0m\u001b[1;33m.\u001b[0m\u001b[0mbar\u001b[0m\u001b[1;33m(\u001b[0m\u001b[0mypos\u001b[0m\u001b[1;33m,\u001b[0m\u001b[0mcounts\u001b[0m\u001b[1;33m[\u001b[0m\u001b[1;36m1\u001b[0m\u001b[1;33m]\u001b[0m\u001b[1;33m)\u001b[0m\u001b[1;33m\u001b[0m\u001b[1;33m\u001b[0m\u001b[0m\n\u001b[0m",
      "\u001b[1;31mAttributeError\u001b[0m: 'tuple' object has no attribute 'bar'"
     ]
    },
    {
     "data": {
      "image/png": "[encoded data removed]",
      "text/plain": [
       "<Figure size 640x480 with 1 Axes>"
      ]
     },
     "metadata": {},
     "output_type": "display_data"
    }
   ],
   "source": [
    "plt.rcdefaults()\n",
    "ax = plt.subplots()\n",
    "xpos = np.arange(5)\n",
    "\n",
    "ax.bar(ypos,counts[1])"
   ]
  },
  {
   "cell_type": "code",
   "execution_count": null,
   "metadata": {},
   "outputs": [],
   "source": [
    "#takes forever to run\n",
    "#data.plot.bar(x=\"Severity\")"
   ]
  },
  {
   "cell_type": "markdown",
   "metadata": {},
   "source": [
    "# Split the Data into a training set and a testing set"
   ]
  },
  {
   "cell_type": "code",
   "execution_count": null,
   "metadata": {},
   "outputs": [],
   "source": [
    "Y = data[\"Severity\"]"
   ]
  },
  {
   "cell_type": "code",
   "execution_count": null,
   "metadata": {},
   "outputs": [],
   "source": [
    "X = data.drop(\"Severity\", axis=1)"
   ]
  },
  {
   "cell_type": "code",
   "execution_count": null,
   "metadata": {},
   "outputs": [],
   "source": [
    "X_train, X_test, Y_train, Y_test = train_test_split(X, Y, test_size=0.2, random_state=1)"
   ]
  },
  {
   "cell_type": "markdown",
   "metadata": {},
   "source": [
    "# Run the Logistic Regression Model"
   ]
  },
  {
   "cell_type": "code",
   "execution_count": null,
   "metadata": {},
   "outputs": [],
   "source": [
    "clf = LogisticRegression()"
   ]
  },
  {
   "cell_type": "code",
   "execution_count": null,
   "metadata": {},
   "outputs": [],
   "source": [
    "clf = clf.fit(X_train, Y_train)"
   ]
  },
  {
   "cell_type": "code",
   "execution_count": null,
   "metadata": {},
   "outputs": [],
   "source": [
    "Y_pred = clf.predict(X_test)"
   ]
  },
  {
   "cell_type": "code",
   "execution_count": null,
   "metadata": {},
   "outputs": [],
   "source": [
    "print(\"Accuracy:\", metrics.accuracy_score(Y_test,Y_pred))"
   ]
  },
  {
   "cell_type": "code",
   "execution_count": null,
   "metadata": {},
   "outputs": [],
   "source": []
  },
  {
   "cell_type": "code",
   "execution_count": null,
   "metadata": {},
   "outputs": [],
   "source": []
  },
  {
   "cell_type": "code",
   "execution_count": null,
   "metadata": {},
   "outputs": [],
   "source": []
  },
  {
   "cell_type": "code",
   "execution_count": null,
   "metadata": {},
   "outputs": [],
   "source": []
  }
 ],
 "metadata": {
  "kernelspec": {
   "display_name": "Python 3",
   "language": "python",
   "name": "python3"
  },
  "language_info": {
   "codemirror_mode": {
    "name": "ipython",
    "version": 3
   },
   "file_extension": ".py",
   "mimetype": "text/x-python",
   "name": "python",
   "nbconvert_exporter": "python",
   "pygments_lexer": "ipython3",
   "version": "3.7.5"
  }
 },
 "nbformat": 4,
 "nbformat_minor": 4
}
